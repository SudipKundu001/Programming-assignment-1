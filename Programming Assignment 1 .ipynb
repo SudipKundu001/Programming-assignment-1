{
 "cells": [
  {
   "cell_type": "markdown",
   "id": "ffcb08f7",
   "metadata": {},
   "source": [
    ">__1.\tWrite a Python program to print \"Hello Python\"?__"
   ]
  },
  {
   "cell_type": "code",
   "execution_count": 1,
   "id": "adaf18c5",
   "metadata": {},
   "outputs": [
    {
     "name": "stdout",
     "output_type": "stream",
     "text": [
      "Hello Python\n"
     ]
    }
   ],
   "source": [
    "print(\"Hello Python\")"
   ]
  },
  {
   "cell_type": "markdown",
   "id": "d8642409",
   "metadata": {},
   "source": [
    ">__2.\tWrite a Python program to do arithmetical operations addition and division.?__"
   ]
  },
  {
   "cell_type": "code",
   "execution_count": null,
   "id": "29dcfb13",
   "metadata": {},
   "outputs": [],
   "source": [
    "def add(a,b):\n",
    "    return (a+b)\n",
    "def div(c,d):\n",
    "    return(c/d)"
   ]
  },
  {
   "cell_type": "markdown",
   "id": "06dc59a8",
   "metadata": {},
   "source": [
    ">__3.\tWrite a Python program to find the area of a triangle?__"
   ]
  },
  {
   "cell_type": "code",
   "execution_count": null,
   "id": "03fb28b6",
   "metadata": {},
   "outputs": [],
   "source": [
    "b = float(input('Enter base of a triangle: '))\n",
    "\n",
    "h = float(input('Enter height of a triangle: '))\n",
    "\n",
    "area = (b * h) / 2."
   ]
  },
  {
   "cell_type": "markdown",
   "id": "77e2a53e",
   "metadata": {},
   "source": [
    ">__4.\tWrite a Python program to swap two variables?__"
   ]
  },
  {
   "cell_type": "code",
   "execution_count": null,
   "id": "a7b7512e",
   "metadata": {},
   "outputs": [],
   "source": [
    "a= input('Input value')\n",
    "b= input('Input value')\n",
    "a,b = b,a"
   ]
  },
  {
   "cell_type": "markdown",
   "id": "95a15715",
   "metadata": {},
   "source": [
    ">__5.\tWrite a Python program to generate a random number?__"
   ]
  },
  {
   "cell_type": "code",
   "execution_count": 8,
   "id": "16e827b7",
   "metadata": {},
   "outputs": [
    {
     "data": {
      "text/plain": [
       "8"
      ]
     },
     "execution_count": 8,
     "metadata": {},
     "output_type": "execute_result"
    }
   ],
   "source": [
    "import random\n",
    "x= random.randint(5,20)\n",
    "x"
   ]
  },
  {
   "cell_type": "code",
   "execution_count": null,
   "id": "c958710e",
   "metadata": {},
   "outputs": [],
   "source": []
  }
 ],
 "metadata": {
  "kernelspec": {
   "display_name": "Python 3",
   "language": "python",
   "name": "python3"
  },
  "language_info": {
   "codemirror_mode": {
    "name": "ipython",
    "version": 3
   },
   "file_extension": ".py",
   "mimetype": "text/x-python",
   "name": "python",
   "nbconvert_exporter": "python",
   "pygments_lexer": "ipython3",
   "version": "3.8.8"
  }
 },
 "nbformat": 4,
 "nbformat_minor": 5
}
